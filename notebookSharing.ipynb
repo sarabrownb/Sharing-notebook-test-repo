{
 "cells": [
  {
   "cell_type": "markdown",
   "id": "34572fae-c5d8-46ab-aec1-05598d4baee2",
   "metadata": {},
   "source": [
    "# Testing notebook sharing\n"
   ]
  },
  {
   "cell_type": "code",
   "execution_count": 1,
   "id": "30882b0a-36ff-4e2d-9f76-bba1a7f79156",
   "metadata": {},
   "outputs": [
    {
     "name": "stdout",
     "output_type": "stream",
     "text": [
      "Test\n"
     ]
    }
   ],
   "source": [
    "print(\"Test\")\n"
   ]
  },
  {
   "cell_type": "code",
   "execution_count": null,
   "id": "4cd9dfd4-296a-4d24-afbc-ab0cb13896d0",
   "metadata": {},
   "outputs": [],
   "source": []
  },
  {
   "cell_type": "code",
   "execution_count": null,
   "id": "4a0923a9-e405-4b6d-a8c8-5d78274f999c",
   "metadata": {},
   "outputs": [],
   "source": []
  }
 ],
 "metadata": {
  "kernelspec": {
   "display_name": "Python 3 (ipykernel)",
   "language": "python",
   "name": "python3"
  },
  "language_info": {
   "codemirror_mode": {
    "name": "ipython",
    "version": 3
   },
   "file_extension": ".py",
   "mimetype": "text/x-python",
   "name": "python",
   "nbconvert_exporter": "python",
   "pygments_lexer": "ipython3",
   "version": "3.12.4"
  }
 },
 "nbformat": 4,
 "nbformat_minor": 5
}
